{
  "nbformat": 4,
  "nbformat_minor": 0,
  "metadata": {
    "colab": {
      "provenance": [],
      "toc_visible": true,
      "authorship_tag": "ABX9TyOt+dKrlmJVmemYjK48b+hl",
      "include_colab_link": true
    },
    "kernelspec": {
      "name": "python3",
      "display_name": "Python 3"
    },
    "language_info": {
      "name": "python"
    }
  },
  "cells": [
    {
      "cell_type": "markdown",
      "metadata": {
        "id": "view-in-github",
        "colab_type": "text"
      },
      "source": [
        "<a href=\"https://colab.research.google.com/github/dverap/Grupo01_IO/blob/main/Clase_IO_Grupo_01.ipynb\" target=\"_parent\"><img src=\"https://colab.research.google.com/assets/colab-badge.svg\" alt=\"Open In Colab\"/></a>"
      ]
    },
    {
      "cell_type": "code",
      "execution_count": null,
      "metadata": {
        "id": "3oPesiUkyIp5"
      },
      "outputs": [],
      "source": []
    },
    {
      "cell_type": "markdown",
      "source": [],
      "metadata": {
        "id": "6cKMlQrOyT6T"
      }
    },
    {
      "cell_type": "markdown",
      "source": [
        "#Esto es un titulo"
      ],
      "metadata": {
        "id": "-im0AydtyNY8"
      }
    },
    {
      "cell_type": "markdown",
      "source": [
        "## Esto es un subtitulo"
      ],
      "metadata": {
        "id": "6PSZ6kZJylS7"
      }
    },
    {
      "cell_type": "code",
      "source": [
        "print (\"Hola mundo\")\n",
        "print (\"python\")"
      ],
      "metadata": {
        "colab": {
          "base_uri": "https://localhost:8080/"
        },
        "id": "JB-k0USzyudd",
        "outputId": "08113fdd-8f89-4d46-e3db-fcc4cc52c8cc"
      },
      "execution_count": 2,
      "outputs": [
        {
          "output_type": "stream",
          "name": "stdout",
          "text": [
            "Hola mundo\n",
            "python\n"
          ]
        }
      ]
    }
  ]
}